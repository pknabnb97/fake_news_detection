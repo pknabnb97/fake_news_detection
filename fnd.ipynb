{
 "cells": [
  {
   "cell_type": "markdown",
   "metadata": {},
   "source": [
    "### Importing the libraries"
   ]
  },
  {
   "cell_type": "code",
   "execution_count": 1,
   "metadata": {
    "colab": {},
    "colab_type": "code",
    "id": "Qpqrnzxe3psR"
   },
   "outputs": [],
   "source": [
    "import pandas as pd  # other libraries imported lated on\n",
    "import numpy as np"
   ]
  },
  {
   "cell_type": "markdown",
   "metadata": {},
   "source": [
    "### Loading data"
   ]
  },
  {
   "cell_type": "code",
   "execution_count": null,
   "metadata": {
    "colab": {},
    "colab_type": "code",
    "id": "E0-3tRMy3psk"
   },
   "outputs": [],
   "source": [
    "data = pd.read_csv(\"./drive/My Drive/DATASET/news.csv\") # trained on google colab with cloud GPU"
   ]
  },
  {
   "cell_type": "markdown",
   "metadata": {},
   "source": [
    "### Data exploration and Preprocessing"
   ]
  },
  {
   "cell_type": "code",
   "execution_count": 4,
   "metadata": {},
   "outputs": [
    {
     "data": {
      "text/plain": [
       "(6335, 4)"
      ]
     },
     "execution_count": 4,
     "metadata": {},
     "output_type": "execute_result"
    }
   ],
   "source": [
    "data.shape #Total 6335 articles"
   ]
  },
  {
   "cell_type": "code",
   "execution_count": 6,
   "metadata": {
    "colab": {
     "base_uri": "https://localhost:8080/",
     "height": 206
    },
    "colab_type": "code",
    "id": "2hW0QA3T3ps1",
    "outputId": "31b05ba4-be59-4ed3-eaf1-705d8f6e5125"
   },
   "outputs": [
    {
     "data": {
      "text/html": [
       "<div>\n",
       "<style scoped>\n",
       "    .dataframe tbody tr th:only-of-type {\n",
       "        vertical-align: middle;\n",
       "    }\n",
       "\n",
       "    .dataframe tbody tr th {\n",
       "        vertical-align: top;\n",
       "    }\n",
       "\n",
       "    .dataframe thead th {\n",
       "        text-align: right;\n",
       "    }\n",
       "</style>\n",
       "<table border=\"1\" class=\"dataframe\">\n",
       "  <thead>\n",
       "    <tr style=\"text-align: right;\">\n",
       "      <th></th>\n",
       "      <th>Unnamed: 0</th>\n",
       "      <th>title</th>\n",
       "      <th>text</th>\n",
       "      <th>label</th>\n",
       "    </tr>\n",
       "  </thead>\n",
       "  <tbody>\n",
       "    <tr>\n",
       "      <th>0</th>\n",
       "      <td>8476</td>\n",
       "      <td>You Can Smell Hillary’s Fear</td>\n",
       "      <td>Daniel Greenfield, a Shillman Journalism Fello...</td>\n",
       "      <td>FAKE</td>\n",
       "    </tr>\n",
       "    <tr>\n",
       "      <th>1</th>\n",
       "      <td>10294</td>\n",
       "      <td>Watch The Exact Moment Paul Ryan Committed Pol...</td>\n",
       "      <td>Google Pinterest Digg Linkedin Reddit Stumbleu...</td>\n",
       "      <td>FAKE</td>\n",
       "    </tr>\n",
       "    <tr>\n",
       "      <th>2</th>\n",
       "      <td>3608</td>\n",
       "      <td>Kerry to go to Paris in gesture of sympathy</td>\n",
       "      <td>U.S. Secretary of State John F. Kerry said Mon...</td>\n",
       "      <td>REAL</td>\n",
       "    </tr>\n",
       "    <tr>\n",
       "      <th>3</th>\n",
       "      <td>10142</td>\n",
       "      <td>Bernie supporters on Twitter erupt in anger ag...</td>\n",
       "      <td>— Kaydee King (@KaydeeKing) November 9, 2016 T...</td>\n",
       "      <td>FAKE</td>\n",
       "    </tr>\n",
       "    <tr>\n",
       "      <th>4</th>\n",
       "      <td>875</td>\n",
       "      <td>The Battle of New York: Why This Primary Matters</td>\n",
       "      <td>It's primary day in New York and front-runners...</td>\n",
       "      <td>REAL</td>\n",
       "    </tr>\n",
       "  </tbody>\n",
       "</table>\n",
       "</div>"
      ],
      "text/plain": [
       "   Unnamed: 0  ... label\n",
       "0        8476  ...  FAKE\n",
       "1       10294  ...  FAKE\n",
       "2        3608  ...  REAL\n",
       "3       10142  ...  FAKE\n",
       "4         875  ...  REAL\n",
       "\n",
       "[5 rows x 4 columns]"
      ]
     },
     "execution_count": 6,
     "metadata": {
      "tags": []
     },
     "output_type": "execute_result"
    }
   ],
   "source": [
    "data.head() # already shuffled"
   ]
  },
  {
   "cell_type": "code",
   "execution_count": 7,
   "metadata": {
    "colab": {
     "base_uri": "https://localhost:8080/",
     "height": 109
    },
    "colab_type": "code",
    "id": "RjBzbeGQ3ptE",
    "outputId": "997f4bf8-fa7f-4446-c0f5-8da9ba0b5df8"
   },
   "outputs": [
    {
     "data": {
      "text/plain": [
       "Unnamed: 0    0\n",
       "title         0\n",
       "text          0\n",
       "label         0\n",
       "dtype: int64"
      ]
     },
     "execution_count": 7,
     "metadata": {
      "tags": []
     },
     "output_type": "execute_result"
    }
   ],
   "source": [
    "data.isnull().sum() # no null entry"
   ]
  },
  {
   "cell_type": "code",
   "execution_count": 8,
   "metadata": {
    "colab": {
     "base_uri": "https://localhost:8080/",
     "height": 206
    },
    "colab_type": "code",
    "id": "u-aN21Id3ptP",
    "outputId": "b7d42a62-edab-4d91-8c61-4a454d13ca56"
   },
   "outputs": [
    {
     "data": {
      "text/html": [
       "<div>\n",
       "<style scoped>\n",
       "    .dataframe tbody tr th:only-of-type {\n",
       "        vertical-align: middle;\n",
       "    }\n",
       "\n",
       "    .dataframe tbody tr th {\n",
       "        vertical-align: top;\n",
       "    }\n",
       "\n",
       "    .dataframe thead th {\n",
       "        text-align: right;\n",
       "    }\n",
       "</style>\n",
       "<table border=\"1\" class=\"dataframe\">\n",
       "  <thead>\n",
       "    <tr style=\"text-align: right;\">\n",
       "      <th></th>\n",
       "      <th>Unnamed: 0</th>\n",
       "      <th>title</th>\n",
       "      <th>text</th>\n",
       "      <th>label</th>\n",
       "    </tr>\n",
       "  </thead>\n",
       "  <tbody>\n",
       "    <tr>\n",
       "      <th>0</th>\n",
       "      <td>8476</td>\n",
       "      <td>You Can Smell Hillary’s Fear</td>\n",
       "      <td>daniel  greenfield  a  shillman  journalism  f...</td>\n",
       "      <td>FAKE</td>\n",
       "    </tr>\n",
       "    <tr>\n",
       "      <th>1</th>\n",
       "      <td>10294</td>\n",
       "      <td>Watch The Exact Moment Paul Ryan Committed Pol...</td>\n",
       "      <td>google  pinterest  digg  linkedin  reddit  stu...</td>\n",
       "      <td>FAKE</td>\n",
       "    </tr>\n",
       "    <tr>\n",
       "      <th>2</th>\n",
       "      <td>3608</td>\n",
       "      <td>Kerry to go to Paris in gesture of sympathy</td>\n",
       "      <td>us  secretary  of  state  john  f  kerry  said...</td>\n",
       "      <td>REAL</td>\n",
       "    </tr>\n",
       "    <tr>\n",
       "      <th>3</th>\n",
       "      <td>10142</td>\n",
       "      <td>Bernie supporters on Twitter erupt in anger ag...</td>\n",
       "      <td>kaydee  king  kaydeeking  november  9  2016 ...</td>\n",
       "      <td>FAKE</td>\n",
       "    </tr>\n",
       "    <tr>\n",
       "      <th>4</th>\n",
       "      <td>875</td>\n",
       "      <td>The Battle of New York: Why This Primary Matters</td>\n",
       "      <td>its  primary  day  in  new  york  and  frontru...</td>\n",
       "      <td>REAL</td>\n",
       "    </tr>\n",
       "  </tbody>\n",
       "</table>\n",
       "</div>"
      ],
      "text/plain": [
       "   Unnamed: 0  ... label\n",
       "0        8476  ...  FAKE\n",
       "1       10294  ...  FAKE\n",
       "2        3608  ...  REAL\n",
       "3       10142  ...  FAKE\n",
       "4         875  ...  REAL\n",
       "\n",
       "[5 rows x 4 columns]"
      ]
     },
     "execution_count": 8,
     "metadata": {
      "tags": []
     },
     "output_type": "execute_result"
    }
   ],
   "source": [
    "import string  # data cleaning\n",
    "def clean_text(text):\n",
    "    words = str(text).split()\n",
    "    words = [i.lower() + \" \" for i in words]\n",
    "    words = \" \".join(words)\n",
    "    words = words.translate(words.maketrans('', '', string.punctuation))\n",
    "    words = words.replace('—','')  #kaydee king line\n",
    "    return words\n",
    "\n",
    "data['text'] = data['text'].apply(clean_text)\n",
    "data.head()"
   ]
  },
  {
   "cell_type": "markdown",
   "metadata": {},
   "source": [
    "### Splitting the dataset"
   ]
  },
  {
   "cell_type": "code",
   "execution_count": 9,
   "metadata": {
    "colab": {},
    "colab_type": "code",
    "id": "BNgSzQo63ptb"
   },
   "outputs": [],
   "source": [
    "from sklearn.model_selection import train_test_split"
   ]
  },
  {
   "cell_type": "code",
   "execution_count": 10,
   "metadata": {
    "colab": {
     "base_uri": "https://localhost:8080/",
     "height": 35
    },
    "colab_type": "code",
    "id": "OGPjjp5-_gpA",
    "outputId": "ebe456d1-32e4-479c-bcad-8feba80c7b10"
   },
   "outputs": [
    {
     "name": "stdout",
     "output_type": "stream",
     "text": [
      "5714 177 444\n"
     ]
    }
   ],
   "source": [
    "train, test = train_test_split(data, test_size = 0.07)\n",
    "train, validation = train_test_split(train, test_size = 0.03)\n",
    "print(len(train), len(validation), len(test) )"
   ]
  },
  {
   "cell_type": "code",
   "execution_count": 10,
   "metadata": {
    "colab": {
     "base_uri": "https://localhost:8080/",
     "height": 206
    },
    "colab_type": "code",
    "id": "MEtbGJ973ptn",
    "outputId": "8302575f-c07e-4dd6-cef1-204ab6c02e42"
   },
   "outputs": [
    {
     "data": {
      "text/html": [
       "<div>\n",
       "<style scoped>\n",
       "    .dataframe tbody tr th:only-of-type {\n",
       "        vertical-align: middle;\n",
       "    }\n",
       "\n",
       "    .dataframe tbody tr th {\n",
       "        vertical-align: top;\n",
       "    }\n",
       "\n",
       "    .dataframe thead th {\n",
       "        text-align: right;\n",
       "    }\n",
       "</style>\n",
       "<table border=\"1\" class=\"dataframe\">\n",
       "  <thead>\n",
       "    <tr style=\"text-align: right;\">\n",
       "      <th></th>\n",
       "      <th>Unnamed: 0</th>\n",
       "      <th>title</th>\n",
       "      <th>text</th>\n",
       "      <th>label</th>\n",
       "    </tr>\n",
       "  </thead>\n",
       "  <tbody>\n",
       "    <tr>\n",
       "      <th>6274</th>\n",
       "      <td>10086</td>\n",
       "      <td>BREAKING: WikiLeaks Just Released Full ISIS Do...</td>\n",
       "      <td>in  government    government  corruption    ob...</td>\n",
       "      <td>FAKE</td>\n",
       "    </tr>\n",
       "    <tr>\n",
       "      <th>5702</th>\n",
       "      <td>7514</td>\n",
       "      <td>News: Democracy Win: Volunteers Across The Cou...</td>\n",
       "      <td>email  despite  the  fact  that  voting  is  t...</td>\n",
       "      <td>FAKE</td>\n",
       "    </tr>\n",
       "    <tr>\n",
       "      <th>1454</th>\n",
       "      <td>8366</td>\n",
       "      <td>Badass Patriot Has MASSIVE Surprise For Thieve...</td>\n",
       "      <td>badass  patriot  has  massive  surprise  for  ...</td>\n",
       "      <td>FAKE</td>\n",
       "    </tr>\n",
       "    <tr>\n",
       "      <th>4203</th>\n",
       "      <td>6636</td>\n",
       "      <td>Comment on 10 More Beautiful Images That Remin...</td>\n",
       "      <td>share  on  facebook  share  on  twitter  it  s...</td>\n",
       "      <td>FAKE</td>\n",
       "    </tr>\n",
       "    <tr>\n",
       "      <th>2687</th>\n",
       "      <td>8162</td>\n",
       "      <td>2:00PM Water Cooler 11/1/2016</td>\n",
       "      <td>by  lambert  strether  of  corrente    ttp  tt...</td>\n",
       "      <td>FAKE</td>\n",
       "    </tr>\n",
       "  </tbody>\n",
       "</table>\n",
       "</div>"
      ],
      "text/plain": [
       "      Unnamed: 0  ... label\n",
       "6274       10086  ...  FAKE\n",
       "5702        7514  ...  FAKE\n",
       "1454        8366  ...  FAKE\n",
       "4203        6636  ...  FAKE\n",
       "2687        8162  ...  FAKE\n",
       "\n",
       "[5 rows x 4 columns]"
      ]
     },
     "execution_count": 10,
     "metadata": {
      "tags": []
     },
     "output_type": "execute_result"
    }
   ],
   "source": [
    "train.head()"
   ]
  },
  {
   "cell_type": "markdown",
   "metadata": {},
   "source": [
    "### Tokenizing and forming padded sequences (Data Preparation)"
   ]
  },
  {
   "cell_type": "code",
   "execution_count": 11,
   "metadata": {
    "colab": {},
    "colab_type": "code",
    "id": "LoK4KbyO3ptv"
   },
   "outputs": [],
   "source": [
    "from tensorflow.keras.preprocessing.text import Tokenizer\n",
    "from tensorflow.keras.preprocessing.sequence import pad_sequences"
   ]
  },
  {
   "cell_type": "code",
   "execution_count": 12,
   "metadata": {
    "colab": {},
    "colab_type": "code",
    "id": "QriLoeQF3pt3"
   },
   "outputs": [],
   "source": [
    "vocab_size = 10000\n",
    "trunc_type = \"post\"\n",
    "pad_type = \"post\"\n",
    "oov_tok = \"<OOV>\"  #Out Of Vocab token\n",
    "tokenizer = Tokenizer(num_words = vocab_size, oov_token=oov_tok) # tokenizer instance wrt vocab size and oov token\n",
    "tokenizer.fit_on_texts(train.text)  # only 'text' from 'train' dataframe will be taken for model training\n",
    "word_index = tokenizer.word_index"
   ]
  },
  {
   "cell_type": "code",
   "execution_count": 13,
   "metadata": {
    "colab": {},
    "colab_type": "code",
    "id": "2ef82lMB3puB"
   },
   "outputs": [],
   "source": [
    "training_sequences = tokenizer.texts_to_sequences(np.array(train.text)) # data converted to sequences using tokenizer instance \n",
    "training_padded = pad_sequences(training_sequences,truncating=trunc_type, padding=pad_type) # padded sequence with type = post\n",
    "\n",
    "max_length = len(training_padded[0])\n",
    "\n",
    "validation_sequences = tokenizer.texts_to_sequences(np.array(validation.text))\n",
    "validation_padded = pad_sequences(validation_sequences, padding=pad_type, truncating=trunc_type, maxlen = max_length)"
   ]
  },
  {
   "cell_type": "code",
   "execution_count": 14,
   "metadata": {
    "colab": {},
    "colab_type": "code",
    "id": "EvvZDngK3puJ"
   },
   "outputs": [],
   "source": [
    "train_x = np.copy(training_padded)  # inputs assigned\n",
    "validate_x = np.copy(validation_padded)"
   ]
  },
  {
   "cell_type": "code",
   "execution_count": 15,
   "metadata": {
    "colab": {},
    "colab_type": "code",
    "id": "5czB1I9f3puV"
   },
   "outputs": [],
   "source": [
    "# targets assigned\n",
    "train_y = train['label'].replace('FAKE',1).replace('REAL',0).values  #numpy array # binary encoding\n",
    "validate_y = validation['label'].replace('FAKE',1).replace('REAL',0).values"
   ]
  },
  {
   "cell_type": "code",
   "execution_count": 16,
   "metadata": {
    "colab": {
     "base_uri": "https://localhost:8080/",
     "height": 35
    },
    "colab_type": "code",
    "id": "ir0uoMH13pue",
    "outputId": "8d1aaaa8-6e47-4418-e221-5594704ed199"
   },
   "outputs": [
    {
     "name": "stdout",
     "output_type": "stream",
     "text": [
      "5714 5714\n"
     ]
    }
   ],
   "source": [
    "print(len(train_x), len(train_y))"
   ]
  },
  {
   "cell_type": "markdown",
   "metadata": {},
   "source": [
    "The above data prep step is done in order to integer-encode the words so that they may be used by the model below"
   ]
  },
  {
   "cell_type": "markdown",
   "metadata": {},
   "source": [
    "### Defining the model architecture"
   ]
  },
  {
   "cell_type": "code",
   "execution_count": 16,
   "metadata": {
    "colab": {},
    "colab_type": "code",
    "id": "R9_ex5aB3puu"
   },
   "outputs": [],
   "source": [
    "import tensorflow as tf"
   ]
  },
  {
   "cell_type": "code",
   "execution_count": 40,
   "metadata": {
    "colab": {},
    "colab_type": "code",
    "id": "3YZgr4cB3pvC"
   },
   "outputs": [],
   "source": [
    "model = tf.keras.Sequential([\n",
    "    tf.keras.layers.Embedding(vocab_size, 16, input_length=max_length), #16 = size of the vector space in which words will be embedded\n",
    "    #The Embedding layer is initialized with random weights and will learn an embedding \n",
    "    #for all of the words in the training dataset. That's why integer-encoded words were required.\n",
    "    #The embedding is learned along with the model itself?\n",
    "    tf.keras.layers.Conv1D(16, 5, activation='relu'),\n",
    "    tf.keras.layers.GlobalMaxPooling1D(),\n",
    "    tf.keras.layers.Dense(1, activation='sigmoid')\n",
    "])\n",
    "model.compile(loss='binary_crossentropy',\n",
    "                  optimizer=tf.keras.optimizers.Adam(learning_rate=0.001), \n",
    "                  metrics=['accuracy'])"
   ]
  },
  {
   "cell_type": "markdown",
   "metadata": {},
   "source": [
    "### Training the model"
   ]
  },
  {
   "cell_type": "code",
   "execution_count": 41,
   "metadata": {
    "colab": {
     "base_uri": "https://localhost:8080/",
     "height": 384
    },
    "colab_type": "code",
    "id": "PE3Py_Mp3pvc",
    "outputId": "d0dcfaac-ba88-4a8d-9927-9a59fa9a3055"
   },
   "outputs": [
    {
     "name": "stdout",
     "output_type": "stream",
     "text": [
      "Epoch 1/10\n",
      "179/179 - 9s - loss: 0.6385 - accuracy: 0.7072 - val_loss: 0.4972 - val_accuracy: 0.8192\n",
      "Epoch 2/10\n",
      "179/179 - 9s - loss: 0.3690 - accuracy: 0.8668 - val_loss: 0.2630 - val_accuracy: 0.9153\n",
      "Epoch 3/10\n",
      "179/179 - 9s - loss: 0.2008 - accuracy: 0.9340 - val_loss: 0.1965 - val_accuracy: 0.9096\n",
      "Epoch 4/10\n",
      "179/179 - 9s - loss: 0.1231 - accuracy: 0.9674 - val_loss: 0.1712 - val_accuracy: 0.9153\n",
      "Epoch 5/10\n",
      "179/179 - 9s - loss: 0.0776 - accuracy: 0.9821 - val_loss: 0.1506 - val_accuracy: 0.9379\n",
      "Epoch 6/10\n",
      "179/179 - 9s - loss: 0.0486 - accuracy: 0.9919 - val_loss: 0.1515 - val_accuracy: 0.9435\n",
      "Epoch 7/10\n",
      "179/179 - 9s - loss: 0.0309 - accuracy: 0.9967 - val_loss: 0.1468 - val_accuracy: 0.9548\n",
      "Epoch 8/10\n",
      "179/179 - 9s - loss: 0.0197 - accuracy: 0.9989 - val_loss: 0.1443 - val_accuracy: 0.9548\n",
      "Epoch 9/10\n",
      "179/179 - 9s - loss: 0.0132 - accuracy: 0.9995 - val_loss: 0.1442 - val_accuracy: 0.9548\n",
      "Epoch 10/10\n",
      "179/179 - 9s - loss: 0.0089 - accuracy: 0.9998 - val_loss: 0.1440 - val_accuracy: 0.9548\n"
     ]
    }
   ],
   "source": [
    "history = model.fit(train_x, train_y, verbose = 2, epochs = 10, validation_data = (validate_x, validate_y),\n",
    "                   callbacks=[tf.keras.callbacks.EarlyStopping('val_loss', patience=6)])"
   ]
  },
  {
   "cell_type": "markdown",
   "metadata": {},
   "source": [
    "### Plots to find overfitting/underfitting"
   ]
  },
  {
   "cell_type": "code",
   "execution_count": 42,
   "metadata": {
    "colab": {},
    "colab_type": "code",
    "id": "d3LPzITA3pvi"
   },
   "outputs": [],
   "source": [
    "import matplotlib.pyplot as plt"
   ]
  },
  {
   "cell_type": "code",
   "execution_count": 43,
   "metadata": {
    "colab": {
     "base_uri": "https://localhost:8080/",
     "height": 541
    },
    "colab_type": "code",
    "id": "HJ_zn0M_3pvq",
    "outputId": "59906c0c-096c-4db8-a74b-6686a7a763b2",
    "scrolled": true
   },
   "outputs": [
    {
     "data": {
      "image/png": "[encoded data removed]",
      "text/plain": [
       "<Figure size 432x288 with 1 Axes>"
      ]
     },
     "metadata": {
      "needs_background": "light",
      "tags": []
     },
     "output_type": "display_data"
    },
    {
     "data": {
      "image/png": "[encoded data removed]",
      "text/plain": [
       "<Figure size 432x288 with 1 Axes>"
      ]
     },
     "metadata": {
      "needs_background": "light",
      "tags": []
     },
     "output_type": "display_data"
    }
   ],
   "source": [
    "def plot_graphs(history, string):\n",
    "  plt.plot(history.history[string])\n",
    "  plt.plot(history.history['val_'+string])\n",
    "  plt.xlabel(\"Epochs\")\n",
    "  plt.ylabel(string)\n",
    "  plt.legend([string, 'val_'+string])\n",
    "  plt.show()\n",
    "  \n",
    "plot_graphs(history, \"accuracy\")\n",
    "plot_graphs(history, \"loss\")"
   ]
  },
  {
   "cell_type": "markdown",
   "metadata": {},
   "source": [
    "### Predicting test data"
   ]
  },
  {
   "cell_type": "code",
   "execution_count": 44,
   "metadata": {
    "colab": {},
    "colab_type": "code",
    "id": "Z_Bsuy9j3pvv"
   },
   "outputs": [],
   "source": [
    "test_sequences = tokenizer.texts_to_sequences(np.array(test.text))  # test dataset also sequenced using previously defined tokenizer instance\n",
    "test_padded = pad_sequences(test_sequences, padding=pad_type, truncating=trunc_type, maxlen = max_length)"
   ]
  },
  {
   "cell_type": "code",
   "execution_count": 45,
   "metadata": {
    "colab": {},
    "colab_type": "code",
    "id": "B1Xh2bSJ3pv7"
   },
   "outputs": [],
   "source": [
    "preds = np.round(model.predict(test_padded))"
   ]
  },
  {
   "cell_type": "code",
   "execution_count": 46,
   "metadata": {
    "colab": {
     "base_uri": "https://localhost:8080/",
     "height": 35
    },
    "colab_type": "code",
    "id": "qM4POaD83pwD",
    "outputId": "9d174ebd-ed69-49be-b433-24a5c9a6538c"
   },
   "outputs": [
    {
     "data": {
      "text/plain": [
       "444"
      ]
     },
     "execution_count": 46,
     "metadata": {
      "tags": []
     },
     "output_type": "execute_result"
    }
   ],
   "source": [
    "len(preds) #no. of test set data"
   ]
  },
  {
   "cell_type": "code",
   "execution_count": 47,
   "metadata": {
    "colab": {
     "base_uri": "https://localhost:8080/",
     "height": 92
    },
    "colab_type": "code",
    "id": "VqPAAMZ_3pwK",
    "outputId": "c1449a32-16b1-4278-f5f9-b9d5f92c348b"
   },
   "outputs": [
    {
     "name": "stdout",
     "output_type": "stream",
     "text": [
      "Accuracy:  0.9617117117117117\n"
     ]
    },
    {
     "name": "stderr",
     "output_type": "stream",
     "text": [
      "/usr/local/lib/python3.6/dist-packages/ipykernel_launcher.py:1: DeprecationWarning: Calling np.sum(generator) is deprecated, and in the future will give a different result. Use np.sum(np.fromiter(generator)) or the python sum builtin instead.\n",
      "  \"\"\"Entry point for launching an IPython kernel.\n"
     ]
    }
   ],
   "source": [
    "acc = np.sum(1 if i==j else 0 for i,j in zip(preds, test[\"label\"].replace('FAKE',1).replace('REAL',0).values)) / len(test)\n",
    "print(\"Accuracy: \", acc )"
   ]
  },
  {
   "cell_type": "markdown",
   "metadata": {},
   "source": [
    "### Plotting the confusion matrix"
   ]
  },
  {
   "cell_type": "code",
   "execution_count": 48,
   "metadata": {
    "colab": {},
    "colab_type": "code",
    "id": "pP5uMaWS3pwS"
   },
   "outputs": [],
   "source": [
    "from sklearn.metrics import confusion_matrix"
   ]
  },
  {
   "cell_type": "code",
   "execution_count": 49,
   "metadata": {
    "colab": {},
    "colab_type": "code",
    "id": "DydaWXfz3pwZ"
   },
   "outputs": [],
   "source": [
    "TN, FP, FN, TP = confusion_matrix(test[\"label\"].replace('FAKE',1).replace('REAL',0).values, preds).ravel()\n",
    "cm = confusion_matrix(test[\"label\"].replace('FAKE',1).replace('REAL',0).values, preds)"
   ]
  },
  {
   "cell_type": "code",
   "execution_count": 51,
   "metadata": {
    "colab": {
     "base_uri": "https://localhost:8080/",
     "height": 266
    },
    "colab_type": "code",
    "id": "eN16cDb5Fd8g",
    "outputId": "36107a79-4f83-4e57-b642-58ae2bd250da"
   },
   "outputs": [
    {
     "data": {
      "text/plain": [
       "(0.0, 1.0, 0.0, 1.0)"
      ]
     },
     "execution_count": 51,
     "metadata": {
      "tags": []
     },
     "output_type": "execute_result"
    },
    {
     "data": {
      "image/png": "[encoded data removed]",
      "text/plain": [
       "<Figure size 432x288 with 1 Axes>"
      ]
     },
     "metadata": {
      "needs_background": "light",
      "tags": []
     },
     "output_type": "display_data"
    }
   ],
   "source": [
    "plt.table(cellText=[[TP,FN],[FP,TN]],cellLoc='center',colWidths=[0.5,0.5],rowLabels=['FAKE (Actual label)','REAL (Actual label)'],colLabels=['FAKE (Prediction)','REAL (Prediction)'],loc=0)\n",
    "plt.axis('off')"
   ]
  }
 ],
 "metadata": {
  "accelerator": "GPU",
  "colab": {
   "collapsed_sections": [],
   "name": "Fake News Detection.ipynb",
   "provenance": []
  },
  "kernelspec": {
   "display_name": "Python 3",
   "language": "python",
   "name": "python3"
  },
  "language_info": {
   "codemirror_mode": {
    "name": "ipython",
    "version": 3
   },
   "file_extension": ".py",
   "mimetype": "text/x-python",
   "name": "python",
   "nbconvert_exporter": "python",
   "pygments_lexer": "ipython3",
   "version": "3.7.3"
  }
 },
 "nbformat": 4,
 "nbformat_minor": 1
}
